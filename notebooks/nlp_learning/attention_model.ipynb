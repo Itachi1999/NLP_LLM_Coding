{
 "cells": [
  {
   "cell_type": "code",
   "execution_count": 1,
   "id": "61caccd3",
   "metadata": {},
   "outputs": [],
   "source": [
    "import torch \n",
    "import torch.nn as nn\n",
    "import torch.nn.functional as F"
   ]
  },
  {
   "cell_type": "code",
   "execution_count": 8,
   "id": "8f23da12",
   "metadata": {},
   "outputs": [],
   "source": [
    "import os\n",
    "import json\n",
    "path = os.path.join(\"E:/\", \"Openrouter_api.json\")\n",
    "if os.path.exists(path):\n",
    "    with open(path, \"r\") as f:\n",
    "        data = json.load(f)\n",
    "    api_key = data[\"api_key\"]\n",
    "    base_url = data[\"base_url\"]\n",
    "else:\n",
    "    raise FileNotFoundError(f\"File not found: {path}\")"
   ]
  },
  {
   "cell_type": "code",
   "execution_count": 10,
   "id": "ce82b43d",
   "metadata": {},
   "outputs": [
    {
     "name": "stdout",
     "output_type": "stream",
     "text": [
      "What a profound and age-old question!\n",
      "\n",
      "The meaning of life is a topic that has been debated and explored by philosophers, theologians, scientists, and many others across various cultures and disciplines. While there is no one definitive answer, here are some perspectives and ideas that might help shed some light on this complex question:\n",
      "\n",
      "1. **Purpose-driven**: Some people believe that the meaning of life is to find a sense of purpose or direction that gives their existence meaning, whether that's through their work, relationships, passions, or personal values.\n",
      "2. **Happiness and fulfillment**: Others argue that the meaning of life is to experience happiness, fulfillment, and joy, which can be achieved through pursuing one's goals, nurturing relationships, and cultivating a sense of well-being.\n",
      "3. **Self-discovery and growth**: Many people believe that the meaning of life is to continually explore, learn, and grow as individuals, developing their potential, and becoming the best version of themselves.\n",
      "4. **Connection and relationships**: The meaning of life might also be found in the connections we make with others, building meaningful relationships, and experiencing a sense of belonging and community.\n",
      "5. **Spiritual or transcendental**: Some people find meaning in life through spiritual or transcendental experiences, such as connecting with a higher power, experiencing a sense of oneness with the universe, or exploring the mysteries of existence.\n",
      "6. **Survival and perpetuation**: From a more primitive perspective, the meaning of life might be simply to survive, thrive, and perpetuate the human species.\n",
      "7. **Existentialism**: Existentialists argue that life has no inherent meaning, and that it's up to each individual to create their own purpose and meaning in life.\n",
      "8. **Universe-centric**: Some philosophical and scientific perspectives see the meaning of life as being tied to the universe as a whole, with humans being a part of the larger cosmic narrative.\n",
      "\n",
      "Ultimately, the meaning of life is a highly personal and subjective question that can vary greatly from person to person. What gives your life meaning might be different from what gives someone else's life meaning.\n",
      "\n",
      "What are your thoughts on the meaning of life? Do you have any personal perspectives or beliefs on this question?\n"
     ]
    }
   ],
   "source": [
    "from openai import OpenAI\n",
    "import os \n",
    "\n",
    "client = OpenAI(\n",
    "  base_url=base_url,\n",
    "  api_key= api_key\n",
    ")\n",
    "\n",
    "completion = client.chat.completions.create(\n",
    "  extra_body={},\n",
    "  model=\"meta-llama/llama-3.3-8b-instruct:free\",\n",
    "  messages=[\n",
    "    {\n",
    "      \"role\": \"user\",\n",
    "      \"content\": \"What is the meaning of life?\"\n",
    "    }\n",
    "  ]\n",
    ")\n",
    "print(completion.choices[0].message.content)"
   ]
  },
  {
   "cell_type": "code",
   "execution_count": null,
   "id": "64268c31",
   "metadata": {},
   "outputs": [],
   "source": []
  }
 ],
 "metadata": {
  "kernelspec": {
   "display_name": "venv",
   "language": "python",
   "name": "python3"
  },
  "language_info": {
   "codemirror_mode": {
    "name": "ipython",
    "version": 3
   },
   "file_extension": ".py",
   "mimetype": "text/x-python",
   "name": "python",
   "nbconvert_exporter": "python",
   "pygments_lexer": "ipython3",
   "version": "3.11.9"
  }
 },
 "nbformat": 4,
 "nbformat_minor": 5
}
